{
 "cells": [
  {
   "cell_type": "code",
   "execution_count": 1,
   "metadata": {},
   "outputs": [
    {
     "data": {
      "text/plain": [
       "'./cookies_snapshot/fvillalba.98@gmail.com.json'"
      ]
     },
     "execution_count": 1,
     "metadata": {},
     "output_type": "execute_result"
    }
   ],
   "source": [
    "import os\n",
    "from dotenv import load_dotenv\n",
    "from hugchat import hugchat\n",
    "from hugchat.login import Login\n",
    "\n",
    "EMAIL = os.environ.get('EMAIL')\n",
    "PASSW = os.environ.get('PASSWORD')\n",
    "# Log in to huggingface and grant authorization to huggingchat\n",
    "sign = Login(EMAIL, PASSW)\n",
    "cookies = sign.login()\n",
    "\n",
    "# Save cookies to the local directory\n",
    "cookie_path_dir = \"./cookies_snapshot\"\n",
    "sign.saveCookiesToDir(cookie_path_dir)\n"
   ]
  },
  {
   "cell_type": "code",
   "execution_count": 9,
   "metadata": {},
   "outputs": [],
   "source": [
    "# var = !cd .. && !cdd battery-vpp/ && git diff HEAD~2 HEAD~1\n"
   ]
  },
  {
   "cell_type": "code",
   "execution_count": 18,
   "metadata": {},
   "outputs": [],
   "source": [
    "var = !git diff HEAD~2 HEAD~1\n"
   ]
  },
  {
   "cell_type": "code",
   "execution_count": 3,
   "metadata": {},
   "outputs": [],
   "source": [
    "pretext = \"I want you to generate a detailed changelog for the following git diff output I'll provide you with, the format must the Keep a Changelog format : \"\n"
   ]
  },
  {
   "cell_type": "code",
   "execution_count": 20,
   "metadata": {},
   "outputs": [
    {
     "name": "stdout",
     "output_type": "stream",
     "text": [
      " Sure! Here is a possible changelog entry based on the provided diff:\n",
      "\n",
      "### Added\n",
      "\n",
      "* .env\n",
      "* cookies_snapshot\n",
      "\n",
      "### Modified\n",
      "\n",
      "* auto_changelog.ipynb\n",
      "\t+ Added imports for `os` and `dotenv`\n",
      "\t+ Replaced hardcoded email and password with environment variables `EMAIL` and `PASSW`\n",
      "\t+ Saved cookies to the local directory instead of logging them to the console\n",
      "* .gitignore\n",
      "\t+ Ignored the `.env` and `cookies_snapshot` directories\n",
      "\n",
      "I hope that helps! Let me know if you have any questions or need further assistance.\n"
     ]
    }
   ],
   "source": [
    "# Create a ChatBot\n",
    "chatbot = hugchat.ChatBot(cookies=cookies.get_dict())  # or cookie_path=\"usercookies/<email>.json\"\n",
    "\n",
    "# non stream response\n",
    "query_result = chatbot.query(pretext + var.n, stream=False)\n",
    "print(query_result)\n"
   ]
  },
  {
   "cell_type": "code",
   "execution_count": 29,
   "metadata": {},
   "outputs": [
    {
     "name": "stdout",
     "output_type": "stream",
     "text": [
      "\n",
      "### Added\n",
      "\n",
      "* .env\n",
      "* cookies_snapshot\n",
      "\n",
      "### Modified\n",
      "\n",
      "* auto_changelog.ipynb\n",
      "\t+ Added imports for `os` and `dotenv`\n",
      "\t+ Replaced hardcoded email and password with environment variables `EMAIL` and `PASSW`\n",
      "\t+ Saved cookies to the local directory instead of logging them to the console\n",
      "* .gitignore\n",
      "\t+ Ignored the `.env` and `cookies_snapshot` directories\n",
      "\n"
     ]
    }
   ],
   "source": [
    "text = query_result.text\n",
    "lines = text.split('\\n')\n",
    "\n",
    "if len(lines) >= 2:\n",
    "    lines = lines[1:-1]\n",
    "\n",
    "modified_text = '\\n'.join(lines)\n",
    "\n",
    "print(modified_text)\n"
   ]
  },
  {
   "cell_type": "code",
   "execution_count": 31,
   "metadata": {},
   "outputs": [],
   "source": [
    "#add modified text to the changelog file\n",
    "with open('CHANGELOG.md', 'r') as f:\n",
    "    content = f.read()\n"
   ]
  },
  {
   "cell_type": "code",
   "execution_count": 33,
   "metadata": {},
   "outputs": [],
   "source": [
    "#write the modified text to the changelog file, but only write it after the unreleased section\n",
    "\n",
    "with open('CHANGELOG.md', 'w') as f:\n",
    "    f.write(modified_text)\n",
    "    f.write(content)\n",
    "    f.close()\n"
   ]
  },
  {
   "cell_type": "code",
   "execution_count": 40,
   "metadata": {},
   "outputs": [],
   "source": [
    "# Read the changelog file\n",
    "with open('CHANGELOG.md', 'r') as file:\n",
    "    changelog = file.read()\n",
    "\n",
    "# Locate the \"Unreleased\" section\n",
    "unreleased_index = changelog.find('## [Unreleased]')\n",
    "if unreleased_index != -1:\n",
    "    # Add your text after the \"Unreleased\" section\n",
    "    changelog = changelog[unreleased_index:] + modified_text + changelog[unreleased_index:]\n",
    "\n",
    "# Write the updated changelog back to the file\n",
    "with open('CHANGELOG.md', 'w') as file:\n",
    "    file.write(changelog)\n"
   ]
  },
  {
   "cell_type": "code",
   "execution_count": 38,
   "metadata": {},
   "outputs": [
    {
     "data": {
      "text/plain": [
       "'# Changelog\\n\\nAll notable changes to this project will be documented in this file.\\n\\nThe format is based on [Keep a Changelog](https://keepachangelog.com/en/1.0.0/),\\nand this project adheres to [Semantic Versioning](https://semver.org/spec/v2.0.0.html).\\n\\n\\n### Added\\n\\n* .env\\n* cookies_snapshot\\n\\n### Modified\\n\\n* auto_changelog.ipynb\\n\\t+ Added imports for `os` and `dotenv`\\n\\t+ Replaced hardcoded email and password with environment variables `EMAIL` and `PASSW`\\n\\t+ Saved cookies to the local directory instead of logging them to the console\\n* .gitignore\\n\\t+ Ignored the `.env` and `cookies_snapshot` directories\\n## [Unreleased]\\n\\n## [0.0.1] - 2023-10-31\\n### Added\\n- Initial release\\n- Add a changelog\\n- Add a readme\\n- Add a license\\n- Add a jupyter notebook with code to generate a changelog\\n'"
      ]
     },
     "execution_count": 38,
     "metadata": {},
     "output_type": "execute_result"
    }
   ],
   "source": []
  }
 ],
 "metadata": {
  "kernelspec": {
   "display_name": ".venv",
   "language": "python",
   "name": "python3"
  },
  "language_info": {
   "codemirror_mode": {
    "name": "ipython",
    "version": 3
   },
   "file_extension": ".py",
   "mimetype": "text/x-python",
   "name": "python",
   "nbconvert_exporter": "python",
   "pygments_lexer": "ipython3",
   "version": "3.8.10"
  }
 },
 "nbformat": 4,
 "nbformat_minor": 2
}
