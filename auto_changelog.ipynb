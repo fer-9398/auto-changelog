{
 "cells": [
  {
   "cell_type": "code",
   "execution_count": 6,
   "metadata": {},
   "outputs": [
    {
     "data": {
      "text/plain": [
       "'./cookies_snapshot/fvillalba.98@gmail.com.json'"
      ]
     },
     "execution_count": 6,
     "metadata": {},
     "output_type": "execute_result"
    }
   ],
   "source": [
    "from hugchat import hugchat\n",
    "from hugchat.login import Login\n",
    "\n",
    "email = 'fvillalba.98@gmail.com'\n",
    "passwd = '6HK232mg('\n",
    "# Log in to huggingface and grant authorization to huggingchat\n",
    "sign = Login(email, passwd)\n",
    "cookies = sign.login()\n",
    "\n",
    "# Save cookies to the local directory\n",
    "cookie_path_dir = \"./cookies_snapshot\"\n",
    "sign.saveCookiesToDir(cookie_path_dir)\n"
   ]
  },
  {
   "cell_type": "code",
   "execution_count": 12,
   "metadata": {},
   "outputs": [],
   "source": [
    "var = !cd battery-vpp/ && git diff HEAD~2 HEAD~1\n"
   ]
  },
  {
   "cell_type": "code",
   "execution_count": 17,
   "metadata": {},
   "outputs": [],
   "source": [
    "pretext = \"I want you to generate a detailed changelog for the following git diff output I'll provide you with: \"\n"
   ]
  },
  {
   "cell_type": "code",
   "execution_count": 16,
   "metadata": {},
   "outputs": [
    {
     "name": "stdout",
     "output_type": "stream",
     "text": [
      " This is a diff output showing the differences between two versions of a Jupyter notebook. The notebook contains several code cells that define a function for controlling a battery, as well as some markdown cells for documentation.\n",
      "\n",
      "The diff output shows that there are several changes between the two versions of the notebook. In particular, there are changes to the `control_battery` function, including the addition of a new parameter `setType`, and modifications to the URL and request headers used in the HTTP GET call. Additionally, there are changes to the output messages printed when the battery is being discharged or charged.\n",
      "\n",
      "There are also some minor changes to the metadata section of the notebook, such as updates to the kernel spec and language info.\n",
      "\n",
      "Overall, it appears that the changes made to the notebook were intended to improve its functionality and error handling, as well as to update its dependencies and formatting.\n"
     ]
    }
   ],
   "source": [
    "# Create a ChatBot\n",
    "chatbot = hugchat.ChatBot(cookies=cookies.get_dict())  # or cookie_path=\"usercookies/<email>.json\"\n",
    "\n",
    "# non stream response\n",
    "query_result = chatbot.query(pretext + var.n, stream=False)\n",
    "print(query_result)\n"
   ]
  }
 ],
 "metadata": {
  "kernelspec": {
   "display_name": ".venv",
   "language": "python",
   "name": "python3"
  },
  "language_info": {
   "codemirror_mode": {
    "name": "ipython",
    "version": 3
   },
   "file_extension": ".py",
   "mimetype": "text/x-python",
   "name": "python",
   "nbconvert_exporter": "python",
   "pygments_lexer": "ipython3",
   "version": "3.8.10"
  }
 },
 "nbformat": 4,
 "nbformat_minor": 2
}
